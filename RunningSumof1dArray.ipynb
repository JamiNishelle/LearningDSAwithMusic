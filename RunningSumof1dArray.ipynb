{
 "cells": [
  {
   "cell_type": "code",
   "execution_count": null,
   "id": "7dc11dde-2923-4ea5-875b-a5d28f099361",
   "metadata": {},
   "outputs": [],
   "source": [
    "# Running Sum of 1d Array \n",
    "# To render, need these commands\n",
    "\n",
    "pip install midiutil # if you don't have midiutil, you have to install it\n",
    "pip install music21"
   ]
  },
  {
   "cell_type": "code",
   "execution_count": 7,
   "id": "ad0e96fe-6a24-44cb-b111-5d5d87c6f2f2",
   "metadata": {},
   "outputs": [],
   "source": [
    "nums = [1,2,3,4]\n"
   ]
  },
  {
   "cell_type": "code",
   "execution_count": 9,
   "id": "cddfabfd-6d4c-41f5-8ba9-2d505d8b4545",
   "metadata": {},
   "outputs": [
    {
     "name": "stdout",
     "output_type": "stream",
     "text": [
      "0 1\n",
      "1 2\n",
      "2 3\n",
      "3 4\n"
     ]
    }
   ],
   "source": [
    "for index, value in enumerate(nums):\n",
    "    print(index, value)"
   ]
  },
  {
   "cell_type": "code",
   "execution_count": 19,
   "id": "be344140-020d-4aa7-9a72-998eb535e5e0",
   "metadata": {},
   "outputs": [
    {
     "name": "stdout",
     "output_type": "stream",
     "text": [
      "[1, 3, 6, 10]\n"
     ]
    }
   ],
   "source": [
    "nums = [1,2,3,4]\n",
    "running_sum_final = [] # initialize the final list\n",
    "running_sum = 0 # initialize with 0\n",
    "# I can use for index, value in enumerate(nums): but even for for i in nums, it prints the number\n",
    "for i in nums: \n",
    "    running_sum = i + running_sum\n",
    "    running_sum_final.append(running_sum) # you don't have to assign it, you can just say a.append(i)\n",
    "print(running_sum_final) # I did the last element, but they want EACH element (running sum"
   ]
  },
  {
   "cell_type": "code",
   "execution_count": 21,
   "id": "67fa345b-2628-4ba4-8671-be8cb4fc007b",
   "metadata": {},
   "outputs": [
    {
     "name": "stdout",
     "output_type": "stream",
     "text": [
      "[21, 43, 66, 90]\n"
     ]
    }
   ],
   "source": [
    "nums = [21,22,23,24]\n",
    "running_sum_final = [] # initialize the final list\n",
    "running_sum = 0 # initialize with 0\n",
    "# I can use for index, value in enumerate(nums): but even for for i in nums, it prints the number\n",
    "for i in nums: \n",
    "    running_sum = i + running_sum\n",
    "    running_sum_final.append(running_sum) # you don't have to assign it, you can just say a.append(i)\n",
    "print(running_sum_final) # I did the last element, but they want EACH element (running sum"
   ]
  },
  {
   "cell_type": "code",
   "execution_count": 27,
   "id": "029bf798-a4df-4bd3-97de-488250900e17",
   "metadata": {},
   "outputs": [],
   "source": [
    "import music21"
   ]
  },
  {
   "cell_type": "code",
   "execution_count": null,
   "id": "fe9af5f9-6cfe-4432-bf31-a4dd42b7cc0c",
   "metadata": {},
   "outputs": [],
   "source": [
    "# To listen, we need to set the max note to the max note of MIDI. MIDI goes from 21 to 108."
   ]
  },
  {
   "cell_type": "code",
   "execution_count": 33,
   "id": "8d97e76c-93d7-46b5-afcf-145454366180",
   "metadata": {},
   "outputs": [],
   "source": [
    "# pip install midiutil \n",
    "# pip install music21\n",
    "# import the library  \n",
    "from midiutil import MIDIFile\n",
    "\n",
    "degrees  = nums  # MIDI note number\n",
    "track    = 0\n",
    "channel  = 0\n",
    "time     = 0    # In beats\n",
    "duration = 1    # In beats\n",
    "tempo    = 60   # In BPM\n",
    "volume   = 100  # 0-127, as per the MIDI standard\n",
    "\n",
    "MyMIDI = MIDIFile(1)  # One track, defaults to format 1 (tempo track is created\n",
    "                      # automatically)\n",
    "MyMIDI.addTempo(track, time, tempo)\n",
    "\n",
    "for i, pitch in enumerate(degrees):\n",
    "    MyMIDI.addNote(track, channel, pitch, time + i, duration, volume)\n",
    "\n",
    "with open(\"major-scale.mid\", \"wb\") as output_file:\n",
    "    MyMIDI.writeFile(output_file) # this works!"
   ]
  },
  {
   "cell_type": "code",
   "execution_count": 37,
   "id": "a193b4d2-4782-40ba-ab10-88af8dd67860",
   "metadata": {},
   "outputs": [
    {
     "data": {
      "text/html": [
       "\n",
       "        <div id=\"midiPlayerDiv112\"></div>\n",
       "        <link rel=\"stylesheet\" href=\"https://cuthbertLab.github.io/music21j/css/m21.css\">\n",
       "        \n",
       "        <script\n",
       "        src=\"https://cdnjs.cloudflare.com/ajax/libs/require.js/2.3.6/require.min.js\"\n",
       "        ></script>\n",
       "    \n",
       "        <script>\n",
       "        function midiPlayerDiv112_play() {\n",
       "            const rq = require.config({\n",
       "                paths: {\n",
       "                    'music21': 'https://cuthbertLab.github.io/music21j/releases/music21.debug',\n",
       "                }\n",
       "            });\n",
       "            rq(['music21'], function(music21) {\n",
       "                mp = new music21.miditools.MidiPlayer();\n",
       "                mp.addPlayer(\"#midiPlayerDiv112\");\n",
       "                mp.base64Load(\"data:audio/midi;base64,TVRoZAAAAAYAAQACJ2BNVHJrAAAAFAD/UQMPQkAA/1gEBAIYCM5g/y8ATVRyawAAADIA/wMAAOAAQM5gkBVkzmCAFQAAkBZkzmCAFgAAkBdkzmCAFwAAkBhkzmCAGADOYP8vAA==\");\n",
       "            });\n",
       "        }\n",
       "        if (typeof require === 'undefined') {\n",
       "            setTimeout(midiPlayerDiv112_play, 2000);\n",
       "        } else {\n",
       "            midiPlayerDiv112_play();\n",
       "        }\n",
       "        </script>"
      ],
      "text/plain": [
       "<IPython.core.display.HTML object>"
      ]
     },
     "metadata": {},
     "output_type": "display_data"
    }
   ],
   "source": [
    "\n",
    "melody = music21.converter.parseFile('major-scale.mid')\n",
    "melody.show('midi')"
   ]
  },
  {
   "cell_type": "code",
   "execution_count": null,
   "id": "552d49c3-4c56-4c3f-8efa-b238df251afa",
   "metadata": {},
   "outputs": [],
   "source": [
    "# play the running sum"
   ]
  },
  {
   "cell_type": "code",
   "execution_count": 39,
   "id": "510d981d-14e9-4ee8-b11a-c6bc32bf985c",
   "metadata": {},
   "outputs": [],
   "source": [
    "degrees  = running_sum_final  # MIDI note number\n",
    "track    = 0\n",
    "channel  = 0\n",
    "time     = 0    # In beats\n",
    "duration = 1    # In beats\n",
    "tempo    = 60   # In BPM\n",
    "volume   = 100  # 0-127, as per the MIDI standard\n",
    "\n",
    "MyMIDI = MIDIFile(1)  # One track, defaults to format 1 (tempo track is created\n",
    "                      # automatically)\n",
    "MyMIDI.addTempo(track, time, tempo)\n",
    "\n",
    "for i, pitch in enumerate(degrees):\n",
    "    MyMIDI.addNote(track, channel, pitch, time + i, duration, volume)\n",
    "\n",
    "with open(\"major-scale_running_sum_final.mid\", \"wb\") as output_file:\n",
    "    MyMIDI.writeFile(output_file) # this works!"
   ]
  },
  {
   "cell_type": "code",
   "execution_count": 43,
   "id": "d4c35141-56df-474a-b096-306a599e3a03",
   "metadata": {},
   "outputs": [
    {
     "data": {
      "text/html": [
       "\n",
       "        <div id=\"midiPlayerDiv225\"></div>\n",
       "        <link rel=\"stylesheet\" href=\"https://cuthbertLab.github.io/music21j/css/m21.css\">\n",
       "        \n",
       "        <script\n",
       "        src=\"https://cdnjs.cloudflare.com/ajax/libs/require.js/2.3.6/require.min.js\"\n",
       "        ></script>\n",
       "    \n",
       "        <script>\n",
       "        function midiPlayerDiv225_play() {\n",
       "            const rq = require.config({\n",
       "                paths: {\n",
       "                    'music21': 'https://cuthbertLab.github.io/music21j/releases/music21.debug',\n",
       "                }\n",
       "            });\n",
       "            rq(['music21'], function(music21) {\n",
       "                mp = new music21.miditools.MidiPlayer();\n",
       "                mp.addPlayer(\"#midiPlayerDiv225\");\n",
       "                mp.base64Load(\"data:audio/midi;base64,TVRoZAAAAAYAAQACJ2BNVHJrAAAAFAD/UQMPQkAA/1gEBAIYCM5g/y8ATVRyawAAADIA/wMAAOAAQM5gkBVkzmCAFQAAkCtkzmCAKwAAkEJkzmCAQgAAkFpkzmCAWgDOYP8vAA==\");\n",
       "            });\n",
       "        }\n",
       "        if (typeof require === 'undefined') {\n",
       "            setTimeout(midiPlayerDiv225_play, 2000);\n",
       "        } else {\n",
       "            midiPlayerDiv225_play();\n",
       "        }\n",
       "        </script>"
      ],
      "text/plain": [
       "<IPython.core.display.HTML object>"
      ]
     },
     "metadata": {},
     "output_type": "display_data"
    }
   ],
   "source": [
    "melody = music21.converter.parseFile('major-scale_running_sum_final.mid')\n",
    "melody.show('midi')"
   ]
  },
  {
   "cell_type": "code",
   "execution_count": null,
   "id": "f0b5431b-c0f5-4d70-96fe-e00c8f85cc5e",
   "metadata": {},
   "outputs": [],
   "source": [
    "# this sounds kind of cool!"
   ]
  }
 ],
 "metadata": {
  "kernelspec": {
   "display_name": "Python [conda env:base] *",
   "language": "python",
   "name": "conda-base-py"
  },
  "language_info": {
   "codemirror_mode": {
    "name": "ipython",
    "version": 3
   },
   "file_extension": ".py",
   "mimetype": "text/x-python",
   "name": "python",
   "nbconvert_exporter": "python",
   "pygments_lexer": "ipython3",
   "version": "3.12.7"
  }
 },
 "nbformat": 4,
 "nbformat_minor": 5
}
