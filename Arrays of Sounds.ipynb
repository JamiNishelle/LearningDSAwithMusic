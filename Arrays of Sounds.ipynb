{
 "cells": [
  {
   "cell_type": "code",
   "execution_count": 45,
   "id": "69fddc62-d1e8-466a-ac06-831adf9e848b",
   "metadata": {},
   "outputs": [
    {
     "name": "stdout",
     "output_type": "stream",
     "text": [
      "Collecting midiutil\n",
      "  Downloading MIDIUtil-1.2.1.tar.gz (1.0 MB)\n",
      "\u001b[2K     \u001b[90m━━━━━━━━━━━━━━━━━━━━━━━━━━━━━━━━━━━━━━━━\u001b[0m \u001b[32m1.0/1.0 MB\u001b[0m \u001b[31m10.5 MB/s\u001b[0m eta \u001b[36m0:00:00\u001b[0m\n",
      "\u001b[?25h  Preparing metadata (setup.py) ... \u001b[?25ldone\n",
      "\u001b[?25hBuilding wheels for collected packages: midiutil\n",
      "  Building wheel for midiutil (setup.py) ... \u001b[?25ldone\n",
      "\u001b[?25h  Created wheel for midiutil: filename=MIDIUtil-1.2.1-py3-none-any.whl size=54569 sha256=cd1f83e2b07d33593579bb1f6de7cb3f16155881e9a5311aa12685de0c12ad53\n",
      "  Stored in directory: /Users/jamimulgrave/Library/Caches/pip/wheels/88/7f/1a/19f62946c3c836b60cf789576f327f73ad8778a7e954e998c3\n",
      "Successfully built midiutil\n",
      "Installing collected packages: midiutil\n",
      "Successfully installed midiutil-1.2.1\n",
      "Note: you may need to restart the kernel to use updated packages.\n"
     ]
    }
   ],
   "source": [
    "pip install midiutil # if you don't have midiutil, you have to install it"
   ]
  },
  {
   "cell_type": "code",
   "execution_count": 47,
   "id": "1111c483-0447-481e-9f42-2332180a5af0",
   "metadata": {},
   "outputs": [],
   "source": [
    "# import the library  \n",
    "from midiutil import MIDIFile\n",
    "\n",
    "degrees  = [60, 62, 64, 65, 67, 69, 71, 72]  # MIDI note number\n",
    "track    = 0\n",
    "channel  = 0\n",
    "time     = 0    # In beats\n",
    "duration = 1    # In beats\n",
    "tempo    = 60   # In BPM\n",
    "volume   = 100  # 0-127, as per the MIDI standard\n",
    "\n",
    "MyMIDI = MIDIFile(1)  # One track, defaults to format 1 (tempo track is created\n",
    "                      # automatically)\n",
    "MyMIDI.addTempo(track, time, tempo)\n",
    "\n",
    "for i, pitch in enumerate(degrees):\n",
    "    MyMIDI.addNote(track, channel, pitch, time + i, duration, volume)\n",
    "\n",
    "with open(\"major-scale.mid\", \"wb\") as output_file:\n",
    "    MyMIDI.writeFile(output_file) # this works!"
   ]
  },
  {
   "cell_type": "code",
   "execution_count": 62,
   "id": "ed68f6a9-fbe0-4163-bf21-f63b85e3f8b1",
   "metadata": {},
   "outputs": [
    {
     "data": {
      "text/plain": [
       "[60, 62, 64, 65, 67, 69, 71, 72]"
      ]
     },
     "execution_count": 62,
     "metadata": {},
     "output_type": "execute_result"
    }
   ],
   "source": [
    "print(degrees) # This is an array! These are the midi note noumbers"
   ]
  },
  {
   "cell_type": "code",
   "execution_count": 74,
   "id": "2d3bab85-ef07-435b-9e40-58421a448c3e",
   "metadata": {},
   "outputs": [
    {
     "name": "stdout",
     "output_type": "stream",
     "text": [
      "Collecting music21\n",
      "  Downloading music21-9.3.0-py3-none-any.whl.metadata (5.0 kB)\n",
      "Requirement already satisfied: chardet in /opt/anaconda3/lib/python3.12/site-packages (from music21) (4.0.0)\n",
      "Requirement already satisfied: joblib in /opt/anaconda3/lib/python3.12/site-packages (from music21) (1.4.2)\n",
      "Collecting jsonpickle (from music21)\n",
      "  Downloading jsonpickle-4.0.1-py3-none-any.whl.metadata (8.2 kB)\n",
      "Requirement already satisfied: matplotlib in /opt/anaconda3/lib/python3.12/site-packages (from music21) (3.9.2)\n",
      "Requirement already satisfied: more-itertools in /opt/anaconda3/lib/python3.12/site-packages (from music21) (10.3.0)\n",
      "Requirement already satisfied: numpy in /opt/anaconda3/lib/python3.12/site-packages (from music21) (1.26.4)\n",
      "Requirement already satisfied: requests in /opt/anaconda3/lib/python3.12/site-packages (from music21) (2.32.3)\n",
      "Collecting webcolors>=1.5 (from music21)\n",
      "  Downloading webcolors-24.11.1-py3-none-any.whl.metadata (2.2 kB)\n",
      "Requirement already satisfied: contourpy>=1.0.1 in /opt/anaconda3/lib/python3.12/site-packages (from matplotlib->music21) (1.2.0)\n",
      "Requirement already satisfied: cycler>=0.10 in /opt/anaconda3/lib/python3.12/site-packages (from matplotlib->music21) (0.11.0)\n",
      "Requirement already satisfied: fonttools>=4.22.0 in /opt/anaconda3/lib/python3.12/site-packages (from matplotlib->music21) (4.51.0)\n",
      "Requirement already satisfied: kiwisolver>=1.3.1 in /opt/anaconda3/lib/python3.12/site-packages (from matplotlib->music21) (1.4.4)\n",
      "Requirement already satisfied: packaging>=20.0 in /opt/anaconda3/lib/python3.12/site-packages (from matplotlib->music21) (24.1)\n",
      "Requirement already satisfied: pillow>=8 in /opt/anaconda3/lib/python3.12/site-packages (from matplotlib->music21) (10.4.0)\n",
      "Requirement already satisfied: pyparsing>=2.3.1 in /opt/anaconda3/lib/python3.12/site-packages (from matplotlib->music21) (3.1.2)\n",
      "Requirement already satisfied: python-dateutil>=2.7 in /opt/anaconda3/lib/python3.12/site-packages (from matplotlib->music21) (2.9.0.post0)\n",
      "Requirement already satisfied: charset-normalizer<4,>=2 in /opt/anaconda3/lib/python3.12/site-packages (from requests->music21) (3.3.2)\n",
      "Requirement already satisfied: idna<4,>=2.5 in /opt/anaconda3/lib/python3.12/site-packages (from requests->music21) (3.7)\n",
      "Requirement already satisfied: urllib3<3,>=1.21.1 in /opt/anaconda3/lib/python3.12/site-packages (from requests->music21) (2.2.3)\n",
      "Requirement already satisfied: certifi>=2017.4.17 in /opt/anaconda3/lib/python3.12/site-packages (from requests->music21) (2024.12.14)\n",
      "Requirement already satisfied: six>=1.5 in /opt/anaconda3/lib/python3.12/site-packages (from python-dateutil>=2.7->matplotlib->music21) (1.16.0)\n",
      "Downloading music21-9.3.0-py3-none-any.whl (22.9 MB)\n",
      "\u001b[2K   \u001b[90m━━━━━━━━━━━━━━━━━━━━━━━━━━━━━━━━━━━━━━━━\u001b[0m \u001b[32m22.9/22.9 MB\u001b[0m \u001b[31m18.6 MB/s\u001b[0m eta \u001b[36m0:00:00\u001b[0m00:01\u001b[0m00:01\u001b[0m\n",
      "\u001b[?25hDownloading webcolors-24.11.1-py3-none-any.whl (14 kB)\n",
      "Downloading jsonpickle-4.0.1-py3-none-any.whl (46 kB)\n",
      "Installing collected packages: webcolors, jsonpickle, music21\n",
      "Successfully installed jsonpickle-4.0.1 music21-9.3.0 webcolors-24.11.1\n",
      "Note: you may need to restart the kernel to use updated packages.\n"
     ]
    }
   ],
   "source": [
    "pip install music21"
   ]
  },
  {
   "cell_type": "code",
   "execution_count": 88,
   "id": "d54301f9-6115-4daa-825f-71a27d0c65cf",
   "metadata": {},
   "outputs": [
    {
     "data": {
      "text/html": [
       "\n",
       "        <div id=\"midiPlayerDiv485\"></div>\n",
       "        <link rel=\"stylesheet\" href=\"https://cuthbertLab.github.io/music21j/css/m21.css\">\n",
       "        \n",
       "        <script\n",
       "        src=\"https://cdnjs.cloudflare.com/ajax/libs/require.js/2.3.6/require.min.js\"\n",
       "        ></script>\n",
       "    \n",
       "        <script>\n",
       "        function midiPlayerDiv485_play() {\n",
       "            const rq = require.config({\n",
       "                paths: {\n",
       "                    'music21': 'https://cuthbertLab.github.io/music21j/releases/music21.debug',\n",
       "                }\n",
       "            });\n",
       "            rq(['music21'], function(music21) {\n",
       "                mp = new music21.miditools.MidiPlayer();\n",
       "                mp.addPlayer(\"#midiPlayerDiv485\");\n",
       "                mp.base64Load(\"data:audio/midi;base64,TVRoZAAAAAYAAQACJ2BNVHJrAAAAFAD/UQMPQkAA/1gEBAIYCM5g/y8ATVRyawAAAFYA/wMAAOAAQM5gkDxkzmCAPAAAkD5kzmCAPgAAkEBkzmCAQAAAkEFkzmCAQQAAkENkzmCAQwAAkEVkzmCARQAAkEdkzmCARwAAkEhkzmCASADOYP8vAA==\");\n",
       "            });\n",
       "        }\n",
       "        if (typeof require === 'undefined') {\n",
       "            setTimeout(midiPlayerDiv485_play, 2000);\n",
       "        } else {\n",
       "            midiPlayerDiv485_play();\n",
       "        }\n",
       "        </script>"
      ],
      "text/plain": [
       "<IPython.core.display.HTML object>"
      ]
     },
     "metadata": {},
     "output_type": "display_data"
    }
   ],
   "source": [
    "melody = converter.parseFile('major-scale.mid')\n",
    "melody.show('midi')"
   ]
  },
  {
   "cell_type": "code",
   "execution_count": null,
   "id": "561a89ff-024e-4f94-b17a-04268a1aa128",
   "metadata": {},
   "outputs": [],
   "source": []
  }
 ],
 "metadata": {
  "kernelspec": {
   "display_name": "Python [conda env:base] *",
   "language": "python",
   "name": "conda-base-py"
  },
  "language_info": {
   "codemirror_mode": {
    "name": "ipython",
    "version": 3
   },
   "file_extension": ".py",
   "mimetype": "text/x-python",
   "name": "python",
   "nbconvert_exporter": "python",
   "pygments_lexer": "ipython3",
   "version": "3.12.7"
  }
 },
 "nbformat": 4,
 "nbformat_minor": 5
}
