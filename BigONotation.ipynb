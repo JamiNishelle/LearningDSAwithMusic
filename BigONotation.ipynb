{
 "cells": [
  {
   "cell_type": "code",
   "execution_count": 2,
   "id": "ee7f483f-29fd-4640-9fd5-23d678f62939",
   "metadata": {},
   "outputs": [
    {
     "name": "stdout",
     "output_type": "stream",
     "text": [
      "Requirement already satisfied: midiutil in /opt/anaconda3/lib/python3.12/site-packages (1.2.1)\n",
      "Note: you may need to restart the kernel to use updated packages.\n"
     ]
    }
   ],
   "source": [
    "#pip install midiutil"
   ]
  },
  {
   "cell_type": "code",
   "execution_count": 11,
   "id": "e05ed614-47e3-4a16-9fc3-8fc0a064f196",
   "metadata": {},
   "outputs": [
    {
     "name": "stdout",
     "output_type": "stream",
     "text": [
      "Requirement already satisfied: music21 in /opt/anaconda3/lib/python3.12/site-packages (9.3.0)\n",
      "Requirement already satisfied: chardet in /opt/anaconda3/lib/python3.12/site-packages (from music21) (4.0.0)\n",
      "Requirement already satisfied: joblib in /opt/anaconda3/lib/python3.12/site-packages (from music21) (1.4.2)\n",
      "Requirement already satisfied: jsonpickle in /opt/anaconda3/lib/python3.12/site-packages (from music21) (4.0.1)\n",
      "Requirement already satisfied: matplotlib in /opt/anaconda3/lib/python3.12/site-packages (from music21) (3.9.2)\n",
      "Requirement already satisfied: more-itertools in /opt/anaconda3/lib/python3.12/site-packages (from music21) (10.3.0)\n",
      "Requirement already satisfied: numpy in /opt/anaconda3/lib/python3.12/site-packages (from music21) (1.26.4)\n",
      "Requirement already satisfied: requests in /opt/anaconda3/lib/python3.12/site-packages (from music21) (2.32.3)\n",
      "Requirement already satisfied: webcolors>=1.5 in /opt/anaconda3/lib/python3.12/site-packages (from music21) (24.11.1)\n",
      "Requirement already satisfied: contourpy>=1.0.1 in /opt/anaconda3/lib/python3.12/site-packages (from matplotlib->music21) (1.2.0)\n",
      "Requirement already satisfied: cycler>=0.10 in /opt/anaconda3/lib/python3.12/site-packages (from matplotlib->music21) (0.11.0)\n",
      "Requirement already satisfied: fonttools>=4.22.0 in /opt/anaconda3/lib/python3.12/site-packages (from matplotlib->music21) (4.51.0)\n",
      "Requirement already satisfied: kiwisolver>=1.3.1 in /opt/anaconda3/lib/python3.12/site-packages (from matplotlib->music21) (1.4.4)\n",
      "Requirement already satisfied: packaging>=20.0 in /opt/anaconda3/lib/python3.12/site-packages (from matplotlib->music21) (24.1)\n",
      "Requirement already satisfied: pillow>=8 in /opt/anaconda3/lib/python3.12/site-packages (from matplotlib->music21) (10.4.0)\n",
      "Requirement already satisfied: pyparsing>=2.3.1 in /opt/anaconda3/lib/python3.12/site-packages (from matplotlib->music21) (3.1.2)\n",
      "Requirement already satisfied: python-dateutil>=2.7 in /opt/anaconda3/lib/python3.12/site-packages (from matplotlib->music21) (2.9.0.post0)\n",
      "Requirement already satisfied: charset-normalizer<4,>=2 in /opt/anaconda3/lib/python3.12/site-packages (from requests->music21) (3.3.2)\n",
      "Requirement already satisfied: idna<4,>=2.5 in /opt/anaconda3/lib/python3.12/site-packages (from requests->music21) (3.7)\n",
      "Requirement already satisfied: urllib3<3,>=1.21.1 in /opt/anaconda3/lib/python3.12/site-packages (from requests->music21) (2.2.3)\n",
      "Requirement already satisfied: certifi>=2017.4.17 in /opt/anaconda3/lib/python3.12/site-packages (from requests->music21) (2025.4.26)\n",
      "Requirement already satisfied: six>=1.5 in /opt/anaconda3/lib/python3.12/site-packages (from python-dateutil>=2.7->matplotlib->music21) (1.16.0)\n",
      "Note: you may need to restart the kernel to use updated packages.\n"
     ]
    }
   ],
   "source": [
    "#pip install music21"
   ]
  },
  {
   "cell_type": "code",
   "execution_count": 2,
   "id": "2506282e-11f5-4a2d-97fb-499b409c0164",
   "metadata": {},
   "outputs": [],
   "source": [
    "# To render, need these commands\n",
    "\n",
    "#pip install midiutil # if you don't have midiutil, you have to install it\n",
    "#pip install music21"
   ]
  },
  {
   "cell_type": "code",
   "execution_count": 17,
   "id": "cca91faa-70aa-42a8-a393-9e513540dcb3",
   "metadata": {},
   "outputs": [
    {
     "data": {
      "text/plain": [
       "'9.7.1'"
      ]
     },
     "execution_count": 17,
     "metadata": {},
     "output_type": "execute_result"
    }
   ],
   "source": [
    "from importlib.metadata import version\n",
    "version('music21')"
   ]
  },
  {
   "cell_type": "code",
   "execution_count": 19,
   "id": "32d76ae0-ef89-4261-aadd-6c272abd4739",
   "metadata": {},
   "outputs": [
    {
     "data": {
      "text/plain": [
       "'1.2.1'"
      ]
     },
     "execution_count": 19,
     "metadata": {},
     "output_type": "execute_result"
    }
   ],
   "source": [
    "version('midiutil')"
   ]
  },
  {
   "cell_type": "code",
   "execution_count": 42,
   "id": "962126b3-8894-4056-a75d-018e48c9e3d5",
   "metadata": {},
   "outputs": [
    {
     "name": "stdout",
     "output_type": "stream",
     "text": [
      "Requirement already satisfied: music21 in /opt/anaconda3/lib/python3.12/site-packages (9.3.0)\n",
      "Collecting music21\n",
      "  Downloading music21-9.7.1-py3-none-any.whl.metadata (5.1 kB)\n",
      "Requirement already satisfied: chardet in /opt/anaconda3/lib/python3.12/site-packages (from music21) (4.0.0)\n",
      "Requirement already satisfied: joblib in /opt/anaconda3/lib/python3.12/site-packages (from music21) (1.4.2)\n",
      "Requirement already satisfied: jsonpickle in /opt/anaconda3/lib/python3.12/site-packages (from music21) (4.0.1)\n",
      "Requirement already satisfied: matplotlib in /opt/anaconda3/lib/python3.12/site-packages (from music21) (3.9.2)\n",
      "Requirement already satisfied: more-itertools in /opt/anaconda3/lib/python3.12/site-packages (from music21) (10.3.0)\n",
      "Requirement already satisfied: numpy>=1.26.4 in /opt/anaconda3/lib/python3.12/site-packages (from music21) (1.26.4)\n",
      "Requirement already satisfied: requests in /opt/anaconda3/lib/python3.12/site-packages (from music21) (2.32.3)\n",
      "Requirement already satisfied: webcolors>=1.5 in /opt/anaconda3/lib/python3.12/site-packages (from music21) (24.11.1)\n",
      "Requirement already satisfied: contourpy>=1.0.1 in /opt/anaconda3/lib/python3.12/site-packages (from matplotlib->music21) (1.2.0)\n",
      "Requirement already satisfied: cycler>=0.10 in /opt/anaconda3/lib/python3.12/site-packages (from matplotlib->music21) (0.11.0)\n",
      "Requirement already satisfied: fonttools>=4.22.0 in /opt/anaconda3/lib/python3.12/site-packages (from matplotlib->music21) (4.51.0)\n",
      "Requirement already satisfied: kiwisolver>=1.3.1 in /opt/anaconda3/lib/python3.12/site-packages (from matplotlib->music21) (1.4.4)\n",
      "Requirement already satisfied: packaging>=20.0 in /opt/anaconda3/lib/python3.12/site-packages (from matplotlib->music21) (24.1)\n",
      "Requirement already satisfied: pillow>=8 in /opt/anaconda3/lib/python3.12/site-packages (from matplotlib->music21) (10.4.0)\n",
      "Requirement already satisfied: pyparsing>=2.3.1 in /opt/anaconda3/lib/python3.12/site-packages (from matplotlib->music21) (3.1.2)\n",
      "Requirement already satisfied: python-dateutil>=2.7 in /opt/anaconda3/lib/python3.12/site-packages (from matplotlib->music21) (2.9.0.post0)\n",
      "Requirement already satisfied: charset-normalizer<4,>=2 in /opt/anaconda3/lib/python3.12/site-packages (from requests->music21) (3.3.2)\n",
      "Requirement already satisfied: idna<4,>=2.5 in /opt/anaconda3/lib/python3.12/site-packages (from requests->music21) (3.7)\n",
      "Requirement already satisfied: urllib3<3,>=1.21.1 in /opt/anaconda3/lib/python3.12/site-packages (from requests->music21) (2.2.3)\n",
      "Requirement already satisfied: certifi>=2017.4.17 in /opt/anaconda3/lib/python3.12/site-packages (from requests->music21) (2025.4.26)\n",
      "Requirement already satisfied: six>=1.5 in /opt/anaconda3/lib/python3.12/site-packages (from python-dateutil>=2.7->matplotlib->music21) (1.16.0)\n",
      "Downloading music21-9.7.1-py3-none-any.whl (20.1 MB)\n",
      "\u001b[2K   \u001b[90m━━━━━━━━━━━━━━━━━━━━━━━━━━━━━━━━━━━━━━━━\u001b[0m \u001b[32m20.1/20.1 MB\u001b[0m \u001b[31m46.2 MB/s\u001b[0m eta \u001b[36m0:00:00\u001b[0ma \u001b[36m0:00:01\u001b[0m\n",
      "\u001b[?25hInstalling collected packages: music21\n",
      "  Attempting uninstall: music21\n",
      "    Found existing installation: music21 9.3.0\n",
      "    Uninstalling music21-9.3.0:\n",
      "      Successfully uninstalled music21-9.3.0\n",
      "Successfully installed music21-9.7.1\n",
      "Note: you may need to restart the kernel to use updated packages.\n"
     ]
    }
   ],
   "source": [
    "#pip install music21 --upgrade"
   ]
  },
  {
   "cell_type": "code",
   "execution_count": 4,
   "id": "d87578ae-c1ea-4def-a267-da7d78d5517e",
   "metadata": {},
   "outputs": [],
   "source": [
    "#from music21 import *"
   ]
  },
  {
   "cell_type": "code",
   "execution_count": 15,
   "id": "c739a668-6614-4f69-bd22-e763fcc0978c",
   "metadata": {},
   "outputs": [],
   "source": [
    "import music21"
   ]
  },
  {
   "cell_type": "code",
   "execution_count": 8,
   "id": "807bf3c1-c88c-4932-b8fd-52efa158a6e2",
   "metadata": {},
   "outputs": [],
   "source": [
    "# O(1)\n",
    "# Just play a single note\n",
    "\n",
    "a = [50] * 5\n",
    "# import the library  \n",
    "from midiutil import MIDIFile\n",
    "\n",
    "degrees  = a  # MIDI note number\n",
    "track    = 0\n",
    "channel  = 0\n",
    "time     = 0    # In beats\n",
    "duration = 1    # In beats\n",
    "tempo    = 60   # In BPM\n",
    "volume   = 100  # 0-127, as per the MIDI standard\n",
    "\n",
    "MyMIDI = MIDIFile(1)  # One track, defaults to format 1 (tempo track is created\n",
    "                      # automatically)\n",
    "MyMIDI.addTempo(track, time, tempo)\n",
    "\n",
    "for i, pitch in enumerate(degrees):\n",
    "    MyMIDI.addNote(track, channel, pitch, time + i, duration, volume)\n",
    "\n",
    "with open(\"O1.mid\", \"wb\") as output_file:\n",
    "    MyMIDI.writeFile(output_file) # this works!"
   ]
  },
  {
   "cell_type": "code",
   "execution_count": 10,
   "id": "2860e052-641f-4e20-b69d-db71ecac08b5",
   "metadata": {},
   "outputs": [
    {
     "data": {
      "text/html": [
       "\n",
       "        <div id=\"midiPlayerDiv230\"></div>\n",
       "        <link rel=\"stylesheet\" href=\"https://cuthbertLab.github.io/music21j/css/m21.css\">\n",
       "        \n",
       "        <script\n",
       "        src=\"https://cdnjs.cloudflare.com/ajax/libs/require.js/2.3.6/require.min.js\"\n",
       "        ></script>\n",
       "    \n",
       "        <script>\n",
       "        function midiPlayerDiv230_play() {\n",
       "            const rq = require.config({\n",
       "                paths: {\n",
       "                    'music21': 'https://cuthbertLab.github.io/music21j/releases/music21.debug',\n",
       "                }\n",
       "            });\n",
       "            rq(['music21'], function(music21) {\n",
       "                mp = new music21.miditools.MidiPlayer();\n",
       "                mp.addPlayer(\"#midiPlayerDiv230\");\n",
       "                mp.base64Load(\"data:audio/midi;base64,TVRoZAAAAAYAAQACJ2BNVHJrAAAAFAD/UQMPQkAA/1gEBAIYCM5g/y8ATVRyawAAADsA/wMAAOAAQM5gkDJkzmCAMgAAkDJkzmCAMgAAkDJkzmCAMgAAkDJkzmCAMgAAkDJkzmCAMgDOYP8vAA==\");\n",
       "            });\n",
       "        }\n",
       "        if (typeof require === 'undefined') {\n",
       "            setTimeout(midiPlayerDiv230_play, 2000);\n",
       "        } else {\n",
       "            midiPlayerDiv230_play();\n",
       "        }\n",
       "        </script>"
      ],
      "text/plain": [
       "<IPython.core.display.HTML object>"
      ]
     },
     "metadata": {},
     "output_type": "display_data"
    }
   ],
   "source": [
    "melody = music21.converter.parseFile('O1.mid')\n",
    "melody.show('midi')"
   ]
  },
  {
   "cell_type": "code",
   "execution_count": 40,
   "id": "9ebc6cd3-7289-4522-ba3f-940ae3bad5c0",
   "metadata": {},
   "outputs": [
    {
     "name": "stdout",
     "output_type": "stream",
     "text": [
      "100.0\n",
      "50.0\n",
      "25.0\n",
      "12.5\n",
      "6.25\n",
      "3.125\n",
      "1.5625\n",
      "0.78125\n",
      "[200, 100.0, 50.0, 25.0, 12.5, 6.25, 3.125, 1.5625, 0.78125]\n"
     ]
    }
   ],
   "source": [
    "# O(logn)\n",
    "import math\n",
    "\n",
    "N = 200\n",
    "result = [N]\n",
    "while N > 1:\n",
    "  # some constant operation\n",
    "    N = N/2\n",
    "    print(N)\n",
    "    result.append(N)\n",
    "print(result)"
   ]
  },
  {
   "cell_type": "code",
   "execution_count": 42,
   "id": "bb14dfdc-d45a-4dbe-bf8e-48a05663d01f",
   "metadata": {},
   "outputs": [
    {
     "name": "stdout",
     "output_type": "stream",
     "text": [
      "[200, 100, 50, 25, 13, 7, 4, 2, 1]\n"
     ]
    }
   ],
   "source": [
    "result_ceil = [math.ceil(x) for x in result] \n",
    "print(result_ceil)\n",
    "# MIDI can only take integers"
   ]
  },
  {
   "cell_type": "code",
   "execution_count": 44,
   "id": "58838afe-1048-4b6d-967b-1672b278f4c1",
   "metadata": {},
   "outputs": [],
   "source": [
    "# import the library  \n",
    "from midiutil import MIDIFile\n",
    "\n",
    "degrees  = result_ceil  # MIDI note number\n",
    "track    = 0\n",
    "channel  = 0\n",
    "time     = 0    # In beats\n",
    "duration = 1    # In beats\n",
    "tempo    = 60   # In BPM\n",
    "volume   = 100  # 0-127, as per the MIDI standard\n",
    "\n",
    "MyMIDI = MIDIFile(1)  # One track, defaults to format 1 (tempo track is created\n",
    "                      # automatically)\n",
    "MyMIDI.addTempo(track, time, tempo)\n",
    "\n",
    "for i, pitch in enumerate(degrees):\n",
    "    MyMIDI.addNote(track, channel, pitch, time + i, duration, volume)\n",
    "\n",
    "with open(\"Ologn.mid\", \"wb\") as output_file:\n",
    "    MyMIDI.writeFile(output_file) # this works!"
   ]
  },
  {
   "cell_type": "code",
   "execution_count": 46,
   "id": "63cd9498-8ae0-497d-89f9-e98ebfc4905f",
   "metadata": {},
   "outputs": [
    {
     "data": {
      "text/html": [
       "\n",
       "        <div id=\"midiPlayerDiv370\"></div>\n",
       "        <link rel=\"stylesheet\" href=\"https://cuthbertLab.github.io/music21j/css/m21.css\">\n",
       "        \n",
       "        <script\n",
       "        src=\"https://cdnjs.cloudflare.com/ajax/libs/require.js/2.3.6/require.min.js\"\n",
       "        ></script>\n",
       "    \n",
       "        <script>\n",
       "        function midiPlayerDiv370_play() {\n",
       "            const rq = require.config({\n",
       "                paths: {\n",
       "                    'music21': 'https://cuthbertLab.github.io/music21j/releases/music21.debug',\n",
       "                }\n",
       "            });\n",
       "            rq(['music21'], function(music21) {\n",
       "                mp = new music21.miditools.MidiPlayer();\n",
       "                mp.addPlayer(\"#midiPlayerDiv370\");\n",
       "                mp.base64Load(\"data:audio/midi;base64,TVRoZAAAAAYAAQACJ2BNVHJrAAAAFAD/UQMPQkAA/1gEBAIYCM5g/y8ATVRyawAAAF8A/wMAAOAAQM5gkHRkzmCAdAAAkGRkzmCAZAAAkDJkzmCAMgAAkBlkzmCAGQAAkA1kzmCADQAAkAdkzmCABwAAkARkzmCABAAAkAJkzmCAAgAAkAFkzmCAAQDOYP8vAA==\");\n",
       "            });\n",
       "        }\n",
       "        if (typeof require === 'undefined') {\n",
       "            setTimeout(midiPlayerDiv370_play, 2000);\n",
       "        } else {\n",
       "            midiPlayerDiv370_play();\n",
       "        }\n",
       "        </script>"
      ],
      "text/plain": [
       "<IPython.core.display.HTML object>"
      ]
     },
     "metadata": {},
     "output_type": "display_data"
    }
   ],
   "source": [
    "melody = music21.converter.parseFile('Ologn.mid')\n",
    "melody.show('midi')"
   ]
  },
  {
   "cell_type": "code",
   "execution_count": 58,
   "id": "b8d6d9e0-494b-4f6e-a88e-124af0b67ada",
   "metadata": {},
   "outputs": [
    {
     "name": "stdout",
     "output_type": "stream",
     "text": [
      "[20, 21, 22, 23, 24, 25, 26, 27, 28, 29, 30, 31, 32, 33, 34, 35, 36, 37, 38, 39, 40, 41, 42, 43, 44, 45, 46, 47, 48, 49]\n"
     ]
    }
   ],
   "source": [
    "# O(n)\n",
    "\n",
    "N = 50\n",
    "i = 20\n",
    "MIDI_list = []\n",
    "while i < N:\n",
    "  # constant time code\n",
    "  MIDI_list.append(i)\n",
    "  i += 1\n",
    "\n",
    "print(MIDI_list)"
   ]
  },
  {
   "cell_type": "code",
   "execution_count": 60,
   "id": "2c572e28-48c9-45e2-a9a6-021792a4ee34",
   "metadata": {},
   "outputs": [],
   "source": [
    "# import the library  \n",
    "from midiutil import MIDIFile\n",
    "\n",
    "degrees  = MIDI_list  # MIDI note number\n",
    "track    = 0\n",
    "channel  = 0\n",
    "time     = 0    # In beats\n",
    "duration = 1    # In beats\n",
    "tempo    = 60   # In BPM\n",
    "volume   = 100  # 0-127, as per the MIDI standard\n",
    "\n",
    "MyMIDI = MIDIFile(1)  # One track, defaults to format 1 (tempo track is created\n",
    "                      # automatically)\n",
    "MyMIDI.addTempo(track, time, tempo)\n",
    "\n",
    "for i, pitch in enumerate(degrees):\n",
    "    MyMIDI.addNote(track, channel, pitch, time + i, duration, volume)\n",
    "\n",
    "with open(\"On.mid\", \"wb\") as output_file:\n",
    "    MyMIDI.writeFile(output_file) # this works!"
   ]
  },
  {
   "cell_type": "code",
   "execution_count": 62,
   "id": "57b50c1e-bb58-4d6b-a223-b96e06f57524",
   "metadata": {},
   "outputs": [
    {
     "data": {
      "text/html": [
       "\n",
       "        <div id=\"midiPlayerDiv1494\"></div>\n",
       "        <link rel=\"stylesheet\" href=\"https://cuthbertLab.github.io/music21j/css/m21.css\">\n",
       "        \n",
       "        <script\n",
       "        src=\"https://cdnjs.cloudflare.com/ajax/libs/require.js/2.3.6/require.min.js\"\n",
       "        ></script>\n",
       "    \n",
       "        <script>\n",
       "        function midiPlayerDiv1494_play() {\n",
       "            const rq = require.config({\n",
       "                paths: {\n",
       "                    'music21': 'https://cuthbertLab.github.io/music21j/releases/music21.debug',\n",
       "                }\n",
       "            });\n",
       "            rq(['music21'], function(music21) {\n",
       "                mp = new music21.miditools.MidiPlayer();\n",
       "                mp.addPlayer(\"#midiPlayerDiv1494\");\n",
       "                mp.base64Load(\"data:audio/midi;base64,TVRoZAAAAAYAAQACJ2BNVHJrAAAAFAD/UQMPQkAA/1gEBAIYCM5g/y8ATVRyawAAARwA/wMAAOAAQM5gkBRkzmCAFAAAkBVkzmCAFQAAkBZkzmCAFgAAkBdkzmCAFwAAkBhkzmCAGAAAkBlkzmCAGQAAkBpkzmCAGgAAkBtkzmCAGwAAkBxkzmCAHAAAkB1kzmCAHQAAkB5kzmCAHgAAkB9kzmCAHwAAkCBkzmCAIAAAkCFkzmCAIQAAkCJkzmCAIgAAkCNkzmCAIwAAkCRkzmCAJAAAkCVkzmCAJQAAkCZkzmCAJgAAkCdkzmCAJwAAkChkzmCAKAAAkClkzmCAKQAAkCpkzmCAKgAAkCtkzmCAKwAAkCxkzmCALAAAkC1kzmCALQAAkC5kzmCALgAAkC9kzmCALwAAkDBkzmCAMAAAkDFkzmCAMQDOYP8vAA==\");\n",
       "            });\n",
       "        }\n",
       "        if (typeof require === 'undefined') {\n",
       "            setTimeout(midiPlayerDiv1494_play, 2000);\n",
       "        } else {\n",
       "            midiPlayerDiv1494_play();\n",
       "        }\n",
       "        </script>"
      ],
      "text/plain": [
       "<IPython.core.display.HTML object>"
      ]
     },
     "metadata": {},
     "output_type": "display_data"
    }
   ],
   "source": [
    "melody = music21.converter.parseFile('On.mid')\n",
    "melody.show('midi')"
   ]
  },
  {
   "cell_type": "code",
   "execution_count": 126,
   "id": "04dfcf0a-ddb8-48a8-a725-097ba766bc2a",
   "metadata": {},
   "outputs": [
    {
     "name": "stdout",
     "output_type": "stream",
     "text": [
      "[10, 50, 20, 25, 100, 60, 90, 75, 80]\n"
     ]
    }
   ],
   "source": [
    "#O(nlogn)\n",
    "\n",
    "array_num = [10,50,20,25,100,60,90,75,80]\n",
    "print(array_num)\n"
   ]
  },
  {
   "cell_type": "code",
   "execution_count": 128,
   "id": "5589ca2d-d302-4936-bc3b-82171ad2be9c",
   "metadata": {},
   "outputs": [],
   "source": [
    "# import the library  \n",
    "from midiutil import MIDIFile\n",
    "\n",
    "degrees  = array_num  # MIDI note number\n",
    "track    = 0\n",
    "channel  = 0\n",
    "time     = 0    # In beats\n",
    "duration = 1    # In beats\n",
    "tempo    = 60   # In BPM\n",
    "volume   = 100  # 0-127, as per the MIDI standard\n",
    "\n",
    "MyMIDI = MIDIFile(1)  # One track, defaults to format 1 (tempo track is created\n",
    "                      # automatically)\n",
    "MyMIDI.addTempo(track, time, tempo)\n",
    "\n",
    "for i, pitch in enumerate(degrees):\n",
    "    MyMIDI.addNote(track, channel, pitch, time + i, duration, volume)\n",
    "\n",
    "with open(\"Onlogn_unsorted.mid\", \"wb\") as output_file:\n",
    "    MyMIDI.writeFile(output_file) # this works!\n"
   ]
  },
  {
   "cell_type": "code",
   "execution_count": 130,
   "id": "01b97454-3894-403a-be27-bb517cdb7409",
   "metadata": {},
   "outputs": [
    {
     "data": {
      "text/html": [
       "\n",
       "        <div id=\"midiPlayerDiv2245\"></div>\n",
       "        <link rel=\"stylesheet\" href=\"https://cuthbertLab.github.io/music21j/css/m21.css\">\n",
       "        \n",
       "        <script\n",
       "        src=\"https://cdnjs.cloudflare.com/ajax/libs/require.js/2.3.6/require.min.js\"\n",
       "        ></script>\n",
       "    \n",
       "        <script>\n",
       "        function midiPlayerDiv2245_play() {\n",
       "            const rq = require.config({\n",
       "                paths: {\n",
       "                    'music21': 'https://cuthbertLab.github.io/music21j/releases/music21.debug',\n",
       "                }\n",
       "            });\n",
       "            rq(['music21'], function(music21) {\n",
       "                mp = new music21.miditools.MidiPlayer();\n",
       "                mp.addPlayer(\"#midiPlayerDiv2245\");\n",
       "                mp.base64Load(\"data:audio/midi;base64,TVRoZAAAAAYAAQACJ2BNVHJrAAAAFAD/UQMPQkAA/1gEBAIYCM5g/y8ATVRyawAAAF8A/wMAAOAAQM5gkApkzmCACgAAkDJkzmCAMgAAkBRkzmCAFAAAkBlkzmCAGQAAkGRkzmCAZAAAkDxkzmCAPAAAkFpkzmCAWgAAkEtkzmCASwAAkFBkzmCAUADOYP8vAA==\");\n",
       "            });\n",
       "        }\n",
       "        if (typeof require === 'undefined') {\n",
       "            setTimeout(midiPlayerDiv2245_play, 2000);\n",
       "        } else {\n",
       "            midiPlayerDiv2245_play();\n",
       "        }\n",
       "        </script>"
      ],
      "text/plain": [
       "<IPython.core.display.HTML object>"
      ]
     },
     "metadata": {},
     "output_type": "display_data"
    }
   ],
   "source": [
    "melody = music21.converter.parseFile('Onlogn_unsorted.mid')\n",
    "melody.show('midi')"
   ]
  },
  {
   "cell_type": "code",
   "execution_count": 122,
   "id": "7f4a4e63-0ca4-4bb3-86fd-7e166c50a731",
   "metadata": {},
   "outputs": [],
   "source": [
    "array_num.sort() # sorts in place\n"
   ]
  },
  {
   "cell_type": "code",
   "execution_count": 134,
   "id": "c243fb19-62e7-43fa-ac75-ada63b824b32",
   "metadata": {},
   "outputs": [],
   "source": [
    "# import the library  \n",
    "from midiutil import MIDIFile\n",
    "\n",
    "degrees  = array_num  # MIDI note number\n",
    "track    = 0\n",
    "channel  = 0\n",
    "time     = 0    # In beats\n",
    "duration = 1    # In beats\n",
    "tempo    = 60   # In BPM\n",
    "volume   = 100  # 0-127, as per the MIDI standard\n",
    "\n",
    "MyMIDI = MIDIFile(1)  # One track, defaults to format 1 (tempo track is created\n",
    "                      # automatically)\n",
    "MyMIDI.addTempo(track, time, tempo)\n",
    "\n",
    "for i, pitch in enumerate(degrees):\n",
    "    MyMIDI.addNote(track, channel, pitch, time + i, duration, volume)\n",
    "\n",
    "with open(\"Onlogn.mid\", \"wb\") as output_file:\n",
    "    MyMIDI.writeFile(output_file) # this works!"
   ]
  },
  {
   "cell_type": "code",
   "execution_count": 136,
   "id": "5fddcffb-98d2-4c0c-a641-2f7c16adadf3",
   "metadata": {},
   "outputs": [
    {
     "data": {
      "text/html": [
       "\n",
       "        <div id=\"midiPlayerDiv2446\"></div>\n",
       "        <link rel=\"stylesheet\" href=\"https://cuthbertLab.github.io/music21j/css/m21.css\">\n",
       "        \n",
       "        <script\n",
       "        src=\"https://cdnjs.cloudflare.com/ajax/libs/require.js/2.3.6/require.min.js\"\n",
       "        ></script>\n",
       "    \n",
       "        <script>\n",
       "        function midiPlayerDiv2446_play() {\n",
       "            const rq = require.config({\n",
       "                paths: {\n",
       "                    'music21': 'https://cuthbertLab.github.io/music21j/releases/music21.debug',\n",
       "                }\n",
       "            });\n",
       "            rq(['music21'], function(music21) {\n",
       "                mp = new music21.miditools.MidiPlayer();\n",
       "                mp.addPlayer(\"#midiPlayerDiv2446\");\n",
       "                mp.base64Load(\"data:audio/midi;base64,TVRoZAAAAAYAAQACJ2BNVHJrAAAAFAD/UQMPQkAA/1gEBAIYCM5g/y8ATVRyawAAAF8A/wMAAOAAQM5gkApkzmCACgAAkDJkzmCAMgAAkBRkzmCAFAAAkBlkzmCAGQAAkGRkzmCAZAAAkDxkzmCAPAAAkFpkzmCAWgAAkEtkzmCASwAAkFBkzmCAUADOYP8vAA==\");\n",
       "            });\n",
       "        }\n",
       "        if (typeof require === 'undefined') {\n",
       "            setTimeout(midiPlayerDiv2446_play, 2000);\n",
       "        } else {\n",
       "            midiPlayerDiv2446_play();\n",
       "        }\n",
       "        </script>"
      ],
      "text/plain": [
       "<IPython.core.display.HTML object>"
      ]
     },
     "metadata": {},
     "output_type": "display_data"
    }
   ],
   "source": [
    "melody = music21.converter.parseFile('Onlogn.mid')\n",
    "melody.show('midi')"
   ]
  },
  {
   "cell_type": "code",
   "execution_count": 166,
   "id": "a96cd993-20ec-461f-9332-182a45b3f49d",
   "metadata": {},
   "outputs": [
    {
     "name": "stdout",
     "output_type": "stream",
     "text": [
      "[11, 12, 34, 50, 64, 70, 90]\n"
     ]
    }
   ],
   "source": [
    "# O(n^2)\n",
    "def bubble_sort(arr):\n",
    "    n = len(arr)\n",
    "    for i in range(n):\n",
    "        for j in range(0, n-i-1):\n",
    "            if arr[j] > arr[j+1]:\n",
    "                arr[j], arr[j+1] = arr[j+1], arr[j] # if the next element is greater than the previous one, swap it.\n",
    "\n",
    "    return(arr)\n",
    "\n",
    "arr = [64, 34, 50, 12, 70, 11, 90]\n",
    "\n",
    "arr_sort = bubble_sort(arr)\n",
    "print(arr_sort)"
   ]
  },
  {
   "cell_type": "code",
   "execution_count": 168,
   "id": "b9f2caa4-e24b-4a17-81a2-7c6ce76c3f50",
   "metadata": {},
   "outputs": [],
   "source": [
    "arr = [64, 34, 50, 12, 70, 11, 90]\n",
    "\n",
    "j = 0\n",
    "if arr[j] > arr[j+1]:\n",
    "    arr[j], arr[j+1] = arr[j+1], arr[j]"
   ]
  },
  {
   "cell_type": "code",
   "execution_count": 160,
   "id": "7b661cf6-993b-4dc9-82ef-e5d3a5322294",
   "metadata": {},
   "outputs": [
    {
     "name": "stdout",
     "output_type": "stream",
     "text": [
      "64\n",
      "34\n"
     ]
    }
   ],
   "source": [
    "print(arr[j+1])\n",
    "print(arr[j])"
   ]
  },
  {
   "cell_type": "code",
   "execution_count": 162,
   "id": "13a19c84-bf1b-4411-8f68-92dfa0fdd2e7",
   "metadata": {},
   "outputs": [
    {
     "data": {
      "text/plain": [
       "(64, 34)"
      ]
     },
     "execution_count": 162,
     "metadata": {},
     "output_type": "execute_result"
    }
   ],
   "source": [
    "arr[j+1], arr[j]"
   ]
  },
  {
   "cell_type": "code",
   "execution_count": 164,
   "id": "6724ec28-792f-4046-9607-78523e95b2e3",
   "metadata": {},
   "outputs": [
    {
     "data": {
      "text/plain": [
       "(34, 64)"
      ]
     },
     "execution_count": 164,
     "metadata": {},
     "output_type": "execute_result"
    }
   ],
   "source": [
    "arr[j], arr[j+1]"
   ]
  },
  {
   "cell_type": "code",
   "execution_count": 156,
   "id": "21318c54-d916-41c1-bced-5abc118daf38",
   "metadata": {},
   "outputs": [
    {
     "data": {
      "text/plain": [
       "[11, 12, 34, 50, 64, 70, 90]"
      ]
     },
     "execution_count": 156,
     "metadata": {},
     "output_type": "execute_result"
    }
   ],
   "source": [
    "arr"
   ]
  },
  {
   "cell_type": "code",
   "execution_count": 170,
   "id": "9dd9f0c3-62cc-4999-89db-6dc7a7092d3d",
   "metadata": {},
   "outputs": [],
   "source": [
    "# import the library  \n",
    "from midiutil import MIDIFile\n",
    "\n",
    "degrees  = arr  # MIDI note number\n",
    "track    = 0\n",
    "channel  = 0\n",
    "time     = 0    # In beats\n",
    "duration = 1    # In beats\n",
    "tempo    = 60   # In BPM\n",
    "volume   = 100  # 0-127, as per the MIDI standard\n",
    "\n",
    "MyMIDI = MIDIFile(1)  # One track, defaults to format 1 (tempo track is created\n",
    "                      # automatically)\n",
    "MyMIDI.addTempo(track, time, tempo)\n",
    "\n",
    "for i, pitch in enumerate(degrees):\n",
    "    MyMIDI.addNote(track, channel, pitch, time + i, duration, volume)\n",
    "\n",
    "with open(\"Onsqrt_unsorted.mid\", \"wb\") as output_file:\n",
    "    MyMIDI.writeFile(output_file) # this works!"
   ]
  },
  {
   "cell_type": "code",
   "execution_count": 172,
   "id": "7fba0ae5-ec67-4c42-905c-10aabce30b0f",
   "metadata": {},
   "outputs": [
    {
     "data": {
      "text/html": [
       "\n",
       "        <div id=\"midiPlayerDiv2782\"></div>\n",
       "        <link rel=\"stylesheet\" href=\"https://cuthbertLab.github.io/music21j/css/m21.css\">\n",
       "        \n",
       "        <script\n",
       "        src=\"https://cdnjs.cloudflare.com/ajax/libs/require.js/2.3.6/require.min.js\"\n",
       "        ></script>\n",
       "    \n",
       "        <script>\n",
       "        function midiPlayerDiv2782_play() {\n",
       "            const rq = require.config({\n",
       "                paths: {\n",
       "                    'music21': 'https://cuthbertLab.github.io/music21j/releases/music21.debug',\n",
       "                }\n",
       "            });\n",
       "            rq(['music21'], function(music21) {\n",
       "                mp = new music21.miditools.MidiPlayer();\n",
       "                mp.addPlayer(\"#midiPlayerDiv2782\");\n",
       "                mp.base64Load(\"data:audio/midi;base64,TVRoZAAAAAYAAQACJ2BNVHJrAAAAFAD/UQMPQkAA/1gEBAIYCM5g/y8ATVRyawAAAE0A/wMAAOAAQM5gkCJkzmCAIgAAkEBkzmCAQAAAkDJkzmCAMgAAkAxkzmCADAAAkEZkzmCARgAAkAtkzmCACwAAkFpkzmCAWgDOYP8vAA==\");\n",
       "            });\n",
       "        }\n",
       "        if (typeof require === 'undefined') {\n",
       "            setTimeout(midiPlayerDiv2782_play, 2000);\n",
       "        } else {\n",
       "            midiPlayerDiv2782_play();\n",
       "        }\n",
       "        </script>"
      ],
      "text/plain": [
       "<IPython.core.display.HTML object>"
      ]
     },
     "metadata": {},
     "output_type": "display_data"
    }
   ],
   "source": [
    "melody = music21.converter.parseFile('Onsqrt_unsorted.mid')\n",
    "melody.show('midi')"
   ]
  },
  {
   "cell_type": "code",
   "execution_count": 220,
   "id": "407226ce-19b6-44b6-87c8-8eed72dd20aa",
   "metadata": {},
   "outputs": [],
   "source": [
    "# import the library  \n",
    "from midiutil import MIDIFile\n",
    "\n",
    "degrees  = arr_sort  # MIDI note number\n",
    "track    = 0\n",
    "channel  = 0\n",
    "time     = 0    # In beats\n",
    "duration = 1    # In beats\n",
    "tempo    = 60   # In BPM\n",
    "volume   = 100  # 0-127, as per the MIDI standard\n",
    "\n",
    "MyMIDI = MIDIFile(1)  # One track, defaults to format 1 (tempo track is created\n",
    "                      # automatically)\n",
    "MyMIDI.addTempo(track, time, tempo)\n",
    "\n",
    "for i, pitch in enumerate(degrees):\n",
    "    MyMIDI.addNote(track, channel, pitch, time + i, duration, volume)\n",
    "\n",
    "with open(\"Onsqrt.mid\", \"wb\") as output_file:\n",
    "    MyMIDI.writeFile(output_file) # this works!"
   ]
  },
  {
   "cell_type": "code",
   "execution_count": 176,
   "id": "808a7974-2e04-475c-8b24-932a6edb10a0",
   "metadata": {},
   "outputs": [
    {
     "data": {
      "text/html": [
       "\n",
       "        <div id=\"midiPlayerDiv2950\"></div>\n",
       "        <link rel=\"stylesheet\" href=\"https://cuthbertLab.github.io/music21j/css/m21.css\">\n",
       "        \n",
       "        <script\n",
       "        src=\"https://cdnjs.cloudflare.com/ajax/libs/require.js/2.3.6/require.min.js\"\n",
       "        ></script>\n",
       "    \n",
       "        <script>\n",
       "        function midiPlayerDiv2950_play() {\n",
       "            const rq = require.config({\n",
       "                paths: {\n",
       "                    'music21': 'https://cuthbertLab.github.io/music21j/releases/music21.debug',\n",
       "                }\n",
       "            });\n",
       "            rq(['music21'], function(music21) {\n",
       "                mp = new music21.miditools.MidiPlayer();\n",
       "                mp.addPlayer(\"#midiPlayerDiv2950\");\n",
       "                mp.base64Load(\"data:audio/midi;base64,TVRoZAAAAAYAAQACJ2BNVHJrAAAAFAD/UQMPQkAA/1gEBAIYCM5g/y8ATVRyawAAAE0A/wMAAOAAQM5gkAtkzmCACwAAkAxkzmCADAAAkCJkzmCAIgAAkDJkzmCAMgAAkEBkzmCAQAAAkEZkzmCARgAAkFpkzmCAWgDOYP8vAA==\");\n",
       "            });\n",
       "        }\n",
       "        if (typeof require === 'undefined') {\n",
       "            setTimeout(midiPlayerDiv2950_play, 2000);\n",
       "        } else {\n",
       "            midiPlayerDiv2950_play();\n",
       "        }\n",
       "        </script>"
      ],
      "text/plain": [
       "<IPython.core.display.HTML object>"
      ]
     },
     "metadata": {},
     "output_type": "display_data"
    }
   ],
   "source": [
    "melody = music21.converter.parseFile('Onsqrt.mid')\n",
    "melody.show('midi')"
   ]
  },
  {
   "cell_type": "code",
   "execution_count": 218,
   "id": "4902acc4-319a-4f18-868b-71fe286d86fd",
   "metadata": {},
   "outputs": [
    {
     "name": "stdout",
     "output_type": "stream",
     "text": [
      "144\n"
     ]
    }
   ],
   "source": [
    "# O(2^n)\n",
    "\n",
    "def Fib(n):\n",
    "  if n == 0 or n == 1:\n",
    "    return 1\n",
    "  return Fib(n - 1) + Fib(n - 2)\n",
    "\n",
    "n = 11\n",
    "\n",
    "answer = Fib(n)\n",
    "\n",
    "\n",
    "print(answer)\n"
   ]
  },
  {
   "cell_type": "code",
   "execution_count": 226,
   "id": "5b4d41e2-7a5c-4710-980c-abe15210ce86",
   "metadata": {},
   "outputs": [],
   "source": [
    "# import the library  \n",
    "from midiutil import MIDIFile\n",
    "\n",
    "degrees  = [n]  # MIDI note number\n",
    "track    = 0\n",
    "channel  = 0\n",
    "time     = 0    # In beats\n",
    "duration = 1    # In beats\n",
    "tempo    = 60   # In BPM\n",
    "volume   = 100  # 0-127, as per the MIDI standard\n",
    "\n",
    "MyMIDI = MIDIFile(1)  # One track, defaults to format 1 (tempo track is created\n",
    "                      # automatically)\n",
    "MyMIDI.addTempo(track, time, tempo)\n",
    "\n",
    "for i, pitch in enumerate(degrees):\n",
    "    MyMIDI.addNote(track, channel, pitch, time + i, duration, volume)\n",
    "\n",
    "with open(\"O2n_unsorted.mid\", \"wb\") as output_file:\n",
    "    MyMIDI.writeFile(output_file) # this works!"
   ]
  },
  {
   "cell_type": "code",
   "execution_count": null,
   "id": "6553b739-9eee-4f7f-b079-478e3fa0654a",
   "metadata": {},
   "outputs": [],
   "source": [
    "melody = music21.converter.parseFile('Onsqrt.mid')\n",
    "melody.show('midi')"
   ]
  },
  {
   "cell_type": "code",
   "execution_count": 228,
   "id": "483a004a-602c-49f0-9886-4a9e5e667f7e",
   "metadata": {},
   "outputs": [
    {
     "data": {
      "text/html": [
       "\n",
       "        <div id=\"midiPlayerDiv3385\"></div>\n",
       "        <link rel=\"stylesheet\" href=\"https://cuthbertLab.github.io/music21j/css/m21.css\">\n",
       "        \n",
       "        <script\n",
       "        src=\"https://cdnjs.cloudflare.com/ajax/libs/require.js/2.3.6/require.min.js\"\n",
       "        ></script>\n",
       "    \n",
       "        <script>\n",
       "        function midiPlayerDiv3385_play() {\n",
       "            const rq = require.config({\n",
       "                paths: {\n",
       "                    'music21': 'https://cuthbertLab.github.io/music21j/releases/music21.debug',\n",
       "                }\n",
       "            });\n",
       "            rq(['music21'], function(music21) {\n",
       "                mp = new music21.miditools.MidiPlayer();\n",
       "                mp.addPlayer(\"#midiPlayerDiv3385\");\n",
       "                mp.base64Load(\"data:audio/midi;base64,TVRoZAAAAAYAAQACJ2BNVHJrAAAAFAD/UQMPQkAA/1gEBAIYCM5g/y8ATVRyawAAABcA/wMAAOAAQM5gkAtkzmCACwDOYP8vAA==\");\n",
       "            });\n",
       "        }\n",
       "        if (typeof require === 'undefined') {\n",
       "            setTimeout(midiPlayerDiv3385_play, 2000);\n",
       "        } else {\n",
       "            midiPlayerDiv3385_play();\n",
       "        }\n",
       "        </script>"
      ],
      "text/plain": [
       "<IPython.core.display.HTML object>"
      ]
     },
     "metadata": {},
     "output_type": "display_data"
    }
   ],
   "source": [
    "melody = music21.converter.parseFile('O2n_unsorted.mid')\n",
    "melody.show('midi')"
   ]
  },
  {
   "cell_type": "code",
   "execution_count": 240,
   "id": "ce44d986-a8a9-45c7-a2e5-0e0056ea4fe7",
   "metadata": {},
   "outputs": [],
   "source": [
    "# import the library  \n",
    "from midiutil import MIDIFile\n",
    "\n",
    "degrees  = [answer]  # MIDI note number\n",
    "track    = 0\n",
    "channel  = 0\n",
    "time     = 0    # In beats\n",
    "duration = 1    # In beats\n",
    "tempo    = 60   # In BPM\n",
    "volume   = 100  # 0-127, as per the MIDI standard\n",
    "\n",
    "MyMIDI = MIDIFile(1)  # One track, defaults to format 1 (tempo track is created\n",
    "                      # automatically)\n",
    "MyMIDI.addTempo(track, time, tempo)\n",
    "\n",
    "for i, pitch in enumerate(degrees):\n",
    "    MyMIDI.addNote(track, channel, pitch, time + i, duration, volume)\n",
    "\n",
    "with open(\"O2n.mid\", \"wb\") as output_file:\n",
    "    MyMIDI.writeFile(output_file) # this works!"
   ]
  },
  {
   "cell_type": "code",
   "execution_count": 242,
   "id": "18e3df36-c18e-4b78-8297-3b7eef71555a",
   "metadata": {},
   "outputs": [
    {
     "data": {
      "text/html": [
       "\n",
       "        <div id=\"midiPlayerDiv3472\"></div>\n",
       "        <link rel=\"stylesheet\" href=\"https://cuthbertLab.github.io/music21j/css/m21.css\">\n",
       "        \n",
       "        <script\n",
       "        src=\"https://cdnjs.cloudflare.com/ajax/libs/require.js/2.3.6/require.min.js\"\n",
       "        ></script>\n",
       "    \n",
       "        <script>\n",
       "        function midiPlayerDiv3472_play() {\n",
       "            const rq = require.config({\n",
       "                paths: {\n",
       "                    'music21': 'https://cuthbertLab.github.io/music21j/releases/music21.debug',\n",
       "                }\n",
       "            });\n",
       "            rq(['music21'], function(music21) {\n",
       "                mp = new music21.miditools.MidiPlayer();\n",
       "                mp.addPlayer(\"#midiPlayerDiv3472\");\n",
       "                mp.base64Load(\"data:audio/midi;base64,TVRoZAAAAAYAAQACJ2BNVHJrAAAAFAD/UQMPQkAA/1gEBAIYCM5g/y8ATVRyawAAABcA/wMAAOAAQM5gkHhkzmCAeADOYP8vAA==\");\n",
       "            });\n",
       "        }\n",
       "        if (typeof require === 'undefined') {\n",
       "            setTimeout(midiPlayerDiv3472_play, 2000);\n",
       "        } else {\n",
       "            midiPlayerDiv3472_play();\n",
       "        }\n",
       "        </script>"
      ],
      "text/plain": [
       "<IPython.core.display.HTML object>"
      ]
     },
     "metadata": {},
     "output_type": "display_data"
    }
   ],
   "source": [
    "melody = music21.converter.parseFile('O2n.mid')\n",
    "melody.show('midi')"
   ]
  },
  {
   "cell_type": "code",
   "execution_count": 1,
   "id": "6aafbcfc-df6e-4ff3-aa32-b801e8b69a46",
   "metadata": {},
   "outputs": [],
   "source": [
    "# O(n!)\n",
    "\n",
    "def factorial(n):\n",
    "    for each in range(n):\n",
    "        print(n)\n",
    "        factorial(n-1)"
   ]
  },
  {
   "cell_type": "code",
   "execution_count": 3,
   "id": "02413bbd-e686-46a5-b297-2882d79c42de",
   "metadata": {},
   "outputs": [],
   "source": [
    "n = 3"
   ]
  },
  {
   "cell_type": "code",
   "execution_count": 7,
   "id": "f9280f44-0ccc-4646-b479-1e95614a14f6",
   "metadata": {},
   "outputs": [
    {
     "name": "stdout",
     "output_type": "stream",
     "text": [
      "3\n",
      "2\n",
      "1\n",
      "2\n",
      "1\n",
      "3\n",
      "2\n",
      "1\n",
      "2\n",
      "1\n",
      "3\n",
      "2\n",
      "1\n",
      "2\n",
      "1\n",
      "None\n"
     ]
    }
   ],
   "source": [
    "factorial(n)"
   ]
  },
  {
   "cell_type": "code",
   "execution_count": 27,
   "id": "f98c557a-da2e-420e-917b-9897ccd25d6c",
   "metadata": {},
   "outputs": [],
   "source": [
    "list_fact = [3, 2, 1, 2, 1, 3, 2, 1, 2, 1, 3, 2, 1, 2, 1]\n"
   ]
  },
  {
   "cell_type": "code",
   "execution_count": 29,
   "id": "05bb3099-43f2-473d-9206-7c2fb4fef508",
   "metadata": {},
   "outputs": [],
   "source": [
    "# import the library  \n",
    "from midiutil import MIDIFile\n",
    "\n",
    "degrees  = list_fact # MIDI note number\n",
    "track    = 0\n",
    "channel  = 0\n",
    "time     = 0    # In beats\n",
    "duration = 1    # In beats\n",
    "tempo    = 60   # In BPM\n",
    "volume   = 100  # 0-127, as per the MIDI standard\n",
    "\n",
    "MyMIDI = MIDIFile(1)  # One track, defaults to format 1 (tempo track is created\n",
    "                      # automatically)\n",
    "MyMIDI.addTempo(track, time, tempo)\n",
    "\n",
    "for i, pitch in enumerate(degrees):\n",
    "    MyMIDI.addNote(track, channel, pitch, time + i, duration, volume)\n",
    "\n",
    "with open(\"Ofact.mid\", \"wb\") as output_file:\n",
    "    MyMIDI.writeFile(output_file) # this works!"
   ]
  },
  {
   "cell_type": "code",
   "execution_count": 31,
   "id": "126d083f-9121-4ddf-903e-bde678ec4652",
   "metadata": {},
   "outputs": [
    {
     "data": {
      "text/html": [
       "\n",
       "        <div id=\"midiPlayerDiv1052\"></div>\n",
       "        <link rel=\"stylesheet\" href=\"https://cuthbertLab.github.io/music21j/css/m21.css\">\n",
       "        \n",
       "        <script\n",
       "        src=\"https://cdnjs.cloudflare.com/ajax/libs/require.js/2.3.6/require.min.js\"\n",
       "        ></script>\n",
       "    \n",
       "        <script>\n",
       "        function midiPlayerDiv1052_play() {\n",
       "            const rq = require.config({\n",
       "                paths: {\n",
       "                    'music21': 'https://cuthbertLab.github.io/music21j/releases/music21.debug',\n",
       "                }\n",
       "            });\n",
       "            rq(['music21'], function(music21) {\n",
       "                mp = new music21.miditools.MidiPlayer();\n",
       "                mp.addPlayer(\"#midiPlayerDiv1052\");\n",
       "                mp.base64Load(\"data:audio/midi;base64,TVRoZAAAAAYAAQACJ2BNVHJrAAAAFAD/UQMPQkAA/1gEBAIYCM5g/y8ATVRyawAAAJUA/wMAAOAAQM5gkANkzmCAAwAAkAJkzmCAAgAAkAFkzmCAAQAAkAJkzmCAAgAAkAFkzmCAAQAAkANkzmCAAwAAkAJkzmCAAgAAkAFkzmCAAQAAkAJkzmCAAgAAkAFkzmCAAQAAkANkzmCAAwAAkAJkzmCAAgAAkAFkzmCAAQAAkAJkzmCAAgAAkAFkzmCAAQDOYP8vAA==\");\n",
       "            });\n",
       "        }\n",
       "        if (typeof require === 'undefined') {\n",
       "            setTimeout(midiPlayerDiv1052_play, 2000);\n",
       "        } else {\n",
       "            midiPlayerDiv1052_play();\n",
       "        }\n",
       "        </script>"
      ],
      "text/plain": [
       "<IPython.core.display.HTML object>"
      ]
     },
     "metadata": {},
     "output_type": "display_data"
    }
   ],
   "source": [
    "melody = music21.converter.parseFile('Ofact.mid')\n",
    "melody.show('midi')"
   ]
  },
  {
   "cell_type": "code",
   "execution_count": 33,
   "id": "4ea9600e-12a7-499f-8308-3b2ab0a3248f",
   "metadata": {},
   "outputs": [
    {
     "data": {
      "text/plain": [
       "[3, 2, 1, 2, 1, 3, 2, 1, 2, 1, 3, 2, 1, 2, 1]"
      ]
     },
     "execution_count": 33,
     "metadata": {},
     "output_type": "execute_result"
    }
   ],
   "source": [
    "list_fact"
   ]
  },
  {
   "cell_type": "code",
   "execution_count": null,
   "id": "914bb986-5f9a-4be7-b5e5-eacb3c18a184",
   "metadata": {},
   "outputs": [],
   "source": []
  }
 ],
 "metadata": {
  "kernelspec": {
   "display_name": "Python [conda env:base] *",
   "language": "python",
   "name": "conda-base-py"
  },
  "language_info": {
   "codemirror_mode": {
    "name": "ipython",
    "version": 3
   },
   "file_extension": ".py",
   "mimetype": "text/x-python",
   "name": "python",
   "nbconvert_exporter": "python",
   "pygments_lexer": "ipython3",
   "version": "3.12.7"
  }
 },
 "nbformat": 4,
 "nbformat_minor": 5
}
